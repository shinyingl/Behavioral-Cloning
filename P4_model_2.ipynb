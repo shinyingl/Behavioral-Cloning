{
  "nbformat": 4,
  "nbformat_minor": 0,
  "metadata": {
    "colab": {
      "name": "P4-model-2.ipynb",
      "version": "0.3.2",
      "provenance": []
    },
    "kernelspec": {
      "name": "python3",
      "display_name": "Python 3"
    },
    "accelerator": "GPU"
  },
  "cells": [
    {
      "cell_type": "code",
      "metadata": {
        "id": "DDlcx5XTsCku",
        "colab_type": "code",
        "colab": {
          "base_uri": "https://localhost:8080/",
          "height": 121
        },
        "outputId": "fd6b5c87-faa3-4b82-f60a-1bdbe9e9407c"
      },
      "source": [
        "from google.colab import drive\n",
        "drive.mount('/content/drive')\n",
        "drive_path = '/content/drive/My Drive/Colab Notebooks/SDC_P4/'"
      ],
      "execution_count": 1,
      "outputs": [
        {
          "output_type": "stream",
          "text": [
            "Go to this URL in a browser: https://accounts.google.com/o/oauth2/auth?client_id=947318989803-6bn6qk8qdgf4n4g3pfee6491hc0brc4i.apps.googleusercontent.com&redirect_uri=urn%3Aietf%3Awg%3Aoauth%3A2.0%3Aoob&scope=email%20https%3A%2F%2Fwww.googleapis.com%2Fauth%2Fdocs.test%20https%3A%2F%2Fwww.googleapis.com%2Fauth%2Fdrive%20https%3A%2F%2Fwww.googleapis.com%2Fauth%2Fdrive.photos.readonly%20https%3A%2F%2Fwww.googleapis.com%2Fauth%2Fpeopleapi.readonly&response_type=code\n",
            "\n",
            "Enter your authorization code:\n",
            "··········\n",
            "Mounted at /content/drive\n"
          ],
          "name": "stdout"
        }
      ]
    },
    {
      "cell_type": "code",
      "metadata": {
        "id": "v0OSAFyIsM1o",
        "colab_type": "code",
        "colab": {
          "base_uri": "https://localhost:8080/",
          "height": 185
        },
        "outputId": "a26d7e39-5043-44c2-988a-027b2c9d2029"
      },
      "source": [
        "# !pip install keras==2.2.4\n",
        "!pip show keras  # 2.2.4 for P4"
      ],
      "execution_count": 4,
      "outputs": [
        {
          "output_type": "stream",
          "text": [
            "Name: Keras\n",
            "Version: 2.2.4\n",
            "Summary: Deep Learning for humans\n",
            "Home-page: https://github.com/keras-team/keras\n",
            "Author: Francois Chollet\n",
            "Author-email: francois.chollet@gmail.com\n",
            "License: MIT\n",
            "Location: /usr/local/lib/python3.6/dist-packages\n",
            "Requires: six, h5py, scipy, pyyaml, numpy, keras-applications, keras-preprocessing\n",
            "Required-by: \n"
          ],
          "name": "stdout"
        }
      ]
    },
    {
      "cell_type": "code",
      "metadata": {
        "id": "wQmzea64sffK",
        "colab_type": "code",
        "colab": {}
      },
      "source": [
        "import os\n",
        "import csv\n",
        "import cv2\n",
        "import numpy as np\n",
        "import pandas as pd\n",
        "import shutil\n",
        "import matplotlib.pyplot as plt\n",
        "from scipy import ndimage\n",
        "import scipy.misc"
      ],
      "execution_count": 0,
      "outputs": []
    },
    {
      "cell_type": "code",
      "metadata": {
        "id": "3b3Ge3nGs00s",
        "colab_type": "code",
        "colab": {
          "base_uri": "https://localhost:8080/",
          "height": 34
        },
        "outputId": "7dbd9116-2108-40d5-a4c2-047060ae6df2"
      },
      "source": [
        "import sklearn\n",
        "from sklearn.utils import shuffle\n",
        "from sklearn.model_selection import train_test_split\n",
        "from keras.models import Model\n",
        "from keras.models import Sequential\n",
        "from keras.optimizers import Adam\n",
        "from keras.layers import Lambda, Conv2D, MaxPooling2D, Dropout, Dense, Flatten, Cropping2D\n"
      ],
      "execution_count": 6,
      "outputs": [
        {
          "output_type": "stream",
          "text": [
            "Using TensorFlow backend.\n"
          ],
          "name": "stderr"
        }
      ]
    },
    {
      "cell_type": "markdown",
      "metadata": {
        "id": "-Q9od9q_s60M",
        "colab_type": "text"
      },
      "source": [
        "### Prepare data set"
      ]
    },
    {
      "cell_type": "code",
      "metadata": {
        "id": "qfNNdSLHs289",
        "colab_type": "code",
        "colab": {
          "base_uri": "https://localhost:8080/",
          "height": 50
        },
        "outputId": "6f13bb55-4082-44ab-9943-11866341b4cd"
      },
      "source": [
        "df2 = pd.read_csv(drive_path + 'data/driving_log.csv')\n",
        "df = df2.tail(50)  # small sample size to check code\n",
        "imgName = df[['center', 'left', 'right']].values\n",
        "angle = df['steering'].values\n",
        "\n",
        "# Split the data\n",
        "X_trainfname, X_validfname, y_trainang, y_validang = train_test_split(imgName, angle, test_size=0.2, shuffle= True)\n",
        "TrainSize = len(X_trainfname); print(\"Training Sample Size = \", TrainSize)\n",
        "ValidSize = len(X_validfname); print(\"Validation Sample Size = \",ValidSize)"
      ],
      "execution_count": 7,
      "outputs": [
        {
          "output_type": "stream",
          "text": [
            "Training Sample Size =  40\n",
            "Validation Sample Size =  10\n"
          ],
          "name": "stdout"
        }
      ]
    },
    {
      "cell_type": "markdown",
      "metadata": {
        "id": "4TtcyTKTtRMJ",
        "colab_type": "text"
      },
      "source": [
        "### Data Generator"
      ]
    },
    {
      "cell_type": "code",
      "metadata": {
        "id": "dPMUzfahtI5c",
        "colab_type": "code",
        "colab": {}
      },
      "source": [
        "def aug_flip(images, angles):\n",
        "    augflip_img = []\n",
        "    augflip_ang = []\n",
        "    for (img, ang) in zip(images, angles):\n",
        "      augflip_img.append(img)\n",
        "      augflip_ang.append(ang)\n",
        "      augflip_img.append(cv2.flip(img, 1))\n",
        "      augflip_ang.append(ang*(-1.0))        \n",
        "    return np.array(augflip_img), np.array(augflip_ang)"
      ],
      "execution_count": 0,
      "outputs": []
    },
    {
      "cell_type": "code",
      "metadata": {
        "id": "s94BrLXLtbDu",
        "colab_type": "code",
        "colab": {}
      },
      "source": [
        "def generator(X_trainfname, y_trainang, batch_size=32):\n",
        "    num_samples = len(y_trainang)\n",
        "    while 1: # Loop forever so the generator never terminates\n",
        "\n",
        "        for offset in range(0, num_samples, batch_size):\n",
        "            batch_imgName = X_trainfname[offset:offset+batch_size]\n",
        "            batch_angle = y_trainang[offset:offset+batch_size]\n",
        "\n",
        "            images = []\n",
        "            angles = []\n",
        "            for k in range(0,len(batch_angle)):\n",
        "              for j in range(0,3):\n",
        "                name = drive_path + 'data/' + batch_imgName[k][j]\n",
        "                center_image = cv2.imread(name)\n",
        "#                 center_image = ndimage.imread(current_path) # not seem to be working\n",
        "                if center_image is None:\n",
        "                  continue  #print(center_image)\n",
        "                else: \n",
        "                  center_angle = float(batch_angle[k])\n",
        "\n",
        "                  images.append(center_image)\n",
        "                  angles.append(center_angle)\n",
        "            # call pre-process - flipping\n",
        "            augflip_img, augflip_ang = aug_flip(images, angles)\n",
        "            \n",
        "            yield shuffle(np.array(augflip_img), np.array(augflip_ang))\n",
        "            \n",
        "train_generator= generator(X_trainfname, y_trainang)\n",
        "validation_generator= generator(X_validfname, y_validang)    "
      ],
      "execution_count": 0,
      "outputs": []
    },
    {
      "cell_type": "markdown",
      "metadata": {
        "id": "D3YNF_rvuLLm",
        "colab_type": "text"
      },
      "source": [
        "### Toy Model (to test simulator and video making)"
      ]
    },
    {
      "cell_type": "code",
      "metadata": {
        "id": "hmoczSgbutUx",
        "colab_type": "code",
        "colab": {}
      },
      "source": [
        "# small size data for toy model input\n",
        "X_toyfname = imgName[1:5,0]\n",
        "y_toy = angle[1:5]\n",
        "toy_images = []\n",
        "toy_angles = []\n",
        "\n",
        "for k in range(0,len(y_toy)):\n",
        "        name = drive_path + 'data/' + X_toyfname[k]\n",
        "        center_image = cv2.imread(name)\n",
        "        center_angle = float(y_toy[k])\n",
        "        toy_images.append(center_image)\n",
        "        toy_angles.append(center_angle)"
      ],
      "execution_count": 0,
      "outputs": []
    },
    {
      "cell_type": "code",
      "metadata": {
        "id": "qqPLWNRdvIGM",
        "colab_type": "code",
        "colab": {
          "base_uri": "https://localhost:8080/",
          "height": 356
        },
        "outputId": "4d5c0f03-e4a2-42ee-8def-5f04b07e128d"
      },
      "source": [
        "# toy model \n",
        "model = Sequential()\n",
        "model.add(Flatten(input_shape=(160,320,3)))\n",
        "model.add(Dense(1))\n",
        "\n",
        "model.compile(loss = 'mse', optimizer = 'adam')\n",
        "model.fit(np.array(toy_images), np.array(toy_angles), validation_split = 0.2, shuffle = True, epochs = 3)\n",
        "\n",
        "model.save(drive_path + 'Toydmodel01.h5')"
      ],
      "execution_count": 12,
      "outputs": [
        {
          "output_type": "stream",
          "text": [
            "WARNING:tensorflow:From /usr/local/lib/python3.6/dist-packages/keras/backend/tensorflow_backend.py:74: The name tf.get_default_graph is deprecated. Please use tf.compat.v1.get_default_graph instead.\n",
            "\n",
            "WARNING:tensorflow:From /usr/local/lib/python3.6/dist-packages/keras/backend/tensorflow_backend.py:517: The name tf.placeholder is deprecated. Please use tf.compat.v1.placeholder instead.\n",
            "\n",
            "WARNING:tensorflow:From /usr/local/lib/python3.6/dist-packages/keras/backend/tensorflow_backend.py:4138: The name tf.random_uniform is deprecated. Please use tf.random.uniform instead.\n",
            "\n",
            "WARNING:tensorflow:From /usr/local/lib/python3.6/dist-packages/keras/optimizers.py:790: The name tf.train.Optimizer is deprecated. Please use tf.compat.v1.train.Optimizer instead.\n",
            "\n",
            "WARNING:tensorflow:From /usr/local/lib/python3.6/dist-packages/keras/backend/tensorflow_backend.py:986: The name tf.assign_add is deprecated. Please use tf.compat.v1.assign_add instead.\n",
            "\n",
            "WARNING:tensorflow:From /usr/local/lib/python3.6/dist-packages/keras/backend/tensorflow_backend.py:973: The name tf.assign is deprecated. Please use tf.compat.v1.assign instead.\n",
            "\n",
            "Train on 3 samples, validate on 1 samples\n",
            "Epoch 1/3\n",
            "3/3 [==============================] - 5s 2s/step - loss: 56677.4961 - val_loss: 362280576.0000\n",
            "Epoch 2/3\n",
            "3/3 [==============================] - 0s 6ms/step - loss: 363018368.0000 - val_loss: 23382116.0000\n",
            "Epoch 3/3\n",
            "3/3 [==============================] - 0s 4ms/step - loss: 23625586.0000 - val_loss: 78275888.0000\n"
          ],
          "name": "stdout"
        }
      ]
    },
    {
      "cell_type": "markdown",
      "metadata": {
        "id": "20enYQSAtqJo",
        "colab_type": "text"
      },
      "source": [
        "### Build Model"
      ]
    },
    {
      "cell_type": "code",
      "metadata": {
        "id": "2ONKhFv9tcXK",
        "colab_type": "code",
        "colab": {
          "base_uri": "https://localhost:8080/",
          "height": 642
        },
        "outputId": "d2f1385c-3cf9-4a39-c5b8-1aa46ca7ff97"
      },
      "source": [
        "model = Sequential()\n",
        "model.add(Lambda(lambda x: x/127.5-1.0, input_shape=(160,320,3)))\n",
        "model.add(Cropping2D(cropping = ((60,25),(0,0)))) # 60 pixels from the top and 25 pixels from the bottom. ((top_crop, bottom_crop), (left_crop, right_crop))\n",
        "model.add(Conv2D(24, (5, 5), activation='elu', strides=(2, 2)))\n",
        "model.add(Conv2D(36, (5, 5), activation='elu', strides=(2, 2)))\n",
        "model.add(Conv2D(48, (5, 5), activation='elu', strides=(2, 2)))\n",
        "model.add(Conv2D(64, (3, 3), activation='elu'))\n",
        "model.add(Conv2D(64, (3, 3), activation='elu'))\n",
        "model.add(Dropout(0.5))\n",
        "model.add(Flatten())\n",
        "model.add(Dense(100, activation='elu'))\n",
        "model.add(Dense(50, activation='elu'))\n",
        "model.add(Dense(10, activation='elu'))\n",
        "model.add(Dense(1))\n",
        "model.summary()"
      ],
      "execution_count": 13,
      "outputs": [
        {
          "output_type": "stream",
          "text": [
            "WARNING:tensorflow:From /usr/local/lib/python3.6/dist-packages/keras/backend/tensorflow_backend.py:3445: calling dropout (from tensorflow.python.ops.nn_ops) with keep_prob is deprecated and will be removed in a future version.\n",
            "Instructions for updating:\n",
            "Please use `rate` instead of `keep_prob`. Rate should be set to `rate = 1 - keep_prob`.\n",
            "_________________________________________________________________\n",
            "Layer (type)                 Output Shape              Param #   \n",
            "=================================================================\n",
            "lambda_1 (Lambda)            (None, 160, 320, 3)       0         \n",
            "_________________________________________________________________\n",
            "cropping2d_1 (Cropping2D)    (None, 75, 320, 3)        0         \n",
            "_________________________________________________________________\n",
            "conv2d_1 (Conv2D)            (None, 36, 158, 24)       1824      \n",
            "_________________________________________________________________\n",
            "conv2d_2 (Conv2D)            (None, 16, 77, 36)        21636     \n",
            "_________________________________________________________________\n",
            "conv2d_3 (Conv2D)            (None, 6, 37, 48)         43248     \n",
            "_________________________________________________________________\n",
            "conv2d_4 (Conv2D)            (None, 4, 35, 64)         27712     \n",
            "_________________________________________________________________\n",
            "conv2d_5 (Conv2D)            (None, 2, 33, 64)         36928     \n",
            "_________________________________________________________________\n",
            "dropout_1 (Dropout)          (None, 2, 33, 64)         0         \n",
            "_________________________________________________________________\n",
            "flatten_2 (Flatten)          (None, 4224)              0         \n",
            "_________________________________________________________________\n",
            "dense_2 (Dense)              (None, 100)               422500    \n",
            "_________________________________________________________________\n",
            "dense_3 (Dense)              (None, 50)                5050      \n",
            "_________________________________________________________________\n",
            "dense_4 (Dense)              (None, 10)                510       \n",
            "_________________________________________________________________\n",
            "dense_5 (Dense)              (None, 1)                 11        \n",
            "=================================================================\n",
            "Total params: 559,419\n",
            "Trainable params: 559,419\n",
            "Non-trainable params: 0\n",
            "_________________________________________________________________\n"
          ],
          "name": "stdout"
        }
      ]
    },
    {
      "cell_type": "code",
      "metadata": {
        "id": "rVjb9jTTtvpp",
        "colab_type": "code",
        "colab": {
          "base_uri": "https://localhost:8080/",
          "height": 185
        },
        "outputId": "ee6b5750-0cbd-4375-a250-06ab646386bd"
      },
      "source": [
        "batch_size=32\n",
        "model.compile(loss='mse', optimizer='adam')\n",
        "history_object = model.fit_generator(train_generator, \n",
        "            steps_per_epoch = TrainSize, \n",
        "            validation_data = validation_generator, \n",
        "            validation_steps = ValidSize, \n",
        "            epochs = 5, verbose = 1)\n",
        "model.save(drive_path + 'Buildmodel01.h5')"
      ],
      "execution_count": 14,
      "outputs": [
        {
          "output_type": "stream",
          "text": [
            "Epoch 1/5\n",
            "40/40 [==============================] - 22s 559ms/step - loss: 0.4580 - val_loss: 0.0034\n",
            "Epoch 2/5\n",
            "40/40 [==============================] - 10s 242ms/step - loss: 0.0015 - val_loss: 9.8450e-05\n",
            "Epoch 3/5\n",
            "40/40 [==============================] - 10s 246ms/step - loss: 8.8322e-04 - val_loss: 6.0258e-05\n",
            "Epoch 4/5\n",
            "40/40 [==============================] - 10s 249ms/step - loss: 7.0985e-04 - val_loss: 8.7293e-05\n",
            "Epoch 5/5\n",
            "40/40 [==============================] - 10s 244ms/step - loss: 6.8625e-04 - val_loss: 4.5229e-05\n"
          ],
          "name": "stdout"
        }
      ]
    },
    {
      "cell_type": "code",
      "metadata": {
        "id": "7nJPWVvQt9q4",
        "colab_type": "code",
        "colab": {
          "base_uri": "https://localhost:8080/",
          "height": 312
        },
        "outputId": "2468fdea-c27e-4977-f0b0-c7a80bb607a9"
      },
      "source": [
        "print(history_object.history.keys())\n",
        "\n",
        "### plot the training and validation loss for each epoch\n",
        "plt.plot(history_object.history['loss'])\n",
        "plt.plot(history_object.history['val_loss'])\n",
        "plt.title('model mean squared error loss')\n",
        "plt.ylabel('Mean Squared Error Loss')\n",
        "plt.xlabel('Epoch Step')\n",
        "plt.legend(['Training set', 'Validation set'], loc='best')\n",
        "plt.show()"
      ],
      "execution_count": 15,
      "outputs": [
        {
          "output_type": "stream",
          "text": [
            "dict_keys(['val_loss', 'loss'])\n"
          ],
          "name": "stdout"
        },
        {
          "output_type": "display_data",
          "data": {
            "image/png": "[encoded data removed]",
            "text/plain": [
              "<Figure size 432x288 with 1 Axes>"
            ]
          },
          "metadata": {
            "tags": []
          }
        }
      ]
    },
    {
      "cell_type": "code",
      "metadata": {
        "id": "Br2k93bIxQtI",
        "colab_type": "code",
        "colab": {}
      },
      "source": [
        ""
      ],
      "execution_count": 0,
      "outputs": []
    }
  ]
}