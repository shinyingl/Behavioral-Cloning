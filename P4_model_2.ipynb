{
  "nbformat": 4,
  "nbformat_minor": 0,
  "metadata": {
    "colab": {
      "name": "P4-model-2.ipynb",
      "version": "0.3.2",
      "provenance": [],
      "collapsed_sections": []
    },
    "kernelspec": {
      "name": "python3",
      "display_name": "Python 3"
    },
    "accelerator": "GPU"
  },
  "cells": [
    {
      "cell_type": "code",
      "metadata": {
        "id": "DDlcx5XTsCku",
        "colab_type": "code",
        "outputId": "d86d1908-c2b3-4c8c-933f-a6a698ff6beb",
        "colab": {
          "base_uri": "https://localhost:8080/",
          "height": 34
        }
      },
      "source": [
        "from google.colab import drive\n",
        "drive.mount('/content/drive')\n"
      ],
      "execution_count": 0,
      "outputs": [
        {
          "output_type": "stream",
          "text": [
            "Drive already mounted at /content/drive; to attempt to forcibly remount, call drive.mount(\"/content/drive\", force_remount=True).\n"
          ],
          "name": "stdout"
        }
      ]
    },
    {
      "cell_type": "code",
      "metadata": {
        "id": "RgfmA-gApDDW",
        "colab_type": "code",
        "colab": {}
      },
      "source": [
        "drive_path = '/content/drive/My Drive/Colab Notebooks/SDC_P4/'\n",
        "# drive_path = '/opt/carnd_p3/' # path on udacity workspace GPU mode"
      ],
      "execution_count": 0,
      "outputs": []
    },
    {
      "cell_type": "code",
      "metadata": {
        "id": "v0OSAFyIsM1o",
        "colab_type": "code",
        "outputId": "ab38f4dc-856b-4f50-b8b9-f1885bffd703",
        "colab": {
          "base_uri": "https://localhost:8080/",
          "height": 185
        }
      },
      "source": [
        "# !pip install keras==2.2.4\n",
        "!pip show keras  # 2.2.4 for Udacity workspace, 2.2.5 is default by Google Colab"
      ],
      "execution_count": 0,
      "outputs": [
        {
          "output_type": "stream",
          "text": [
            "Name: Keras\n",
            "Version: 2.2.5\n",
            "Summary: Deep Learning for humans\n",
            "Home-page: https://github.com/keras-team/keras\n",
            "Author: Francois Chollet\n",
            "Author-email: francois.chollet@gmail.com\n",
            "License: MIT\n",
            "Location: /usr/local/lib/python3.6/dist-packages\n",
            "Requires: numpy, six, scipy, keras-applications, keras-preprocessing, pyyaml, h5py\n",
            "Required-by: \n"
          ],
          "name": "stdout"
        }
      ]
    },
    {
      "cell_type": "code",
      "metadata": {
        "id": "wQmzea64sffK",
        "colab_type": "code",
        "colab": {}
      },
      "source": [
        "import os\n",
        "import csv\n",
        "import cv2\n",
        "import numpy as np\n",
        "import pandas as pd"
      ],
      "execution_count": 0,
      "outputs": []
    },
    {
      "cell_type": "code",
      "metadata": {
        "id": "3b3Ge3nGs00s",
        "colab_type": "code",
        "colab": {}
      },
      "source": [
        "import sklearn\n",
        "from sklearn.utils import shuffle\n",
        "from sklearn.model_selection import train_test_split\n",
        "from keras.models import Model\n",
        "from keras.models import Sequential\n",
        "from keras.optimizers import Adam\n",
        "from keras.layers import Lambda, Conv2D, MaxPooling2D, Dropout, Dense, Flatten, Cropping2D\n"
      ],
      "execution_count": 0,
      "outputs": []
    },
    {
      "cell_type": "markdown",
      "metadata": {
        "id": "-Q9od9q_s60M",
        "colab_type": "text"
      },
      "source": [
        "### Prepare data set"
      ]
    },
    {
      "cell_type": "code",
      "metadata": {
        "id": "qfNNdSLHs289",
        "colab_type": "code",
        "colab": {}
      },
      "source": [
        "df2 = pd.read_csv(drive_path + 'data/driving_log.csv')\n",
        "# reduce similar training data, particularly to reduce steering angle =0 by a factor of 8\n",
        "df3 = df2.loc[df2['steering']!=0]; \n",
        "df4 = df2.loc[df2['steering']==0][::8]; \n",
        "df = pd.concat([df3, df4])\n",
        "# df = df2\n",
        "# df = df0.head(500)  # small sample size to check code\n",
        "imgName = df[['center', 'left', 'right']].values\n",
        "angle = df['steering'].values\n",
        "\n",
        "for i in range(0, len(imgName)):\n",
        "  imgName[i][1] = imgName[i][1][1:]\n",
        "  imgName[i][2] = imgName[i][2][1:]\n",
        "\n",
        "# Split the data\n",
        "X_trainfname, X_validfname, y_trainang, y_validang = train_test_split(imgName, angle, test_size=0.2, shuffle= True)\n",
        "TrainSize = len(X_trainfname); \n",
        "ValidSize = len(X_validfname); "
      ],
      "execution_count": 0,
      "outputs": []
    },
    {
      "cell_type": "code",
      "metadata": {
        "id": "jrN3PRulvbBy",
        "colab_type": "code",
        "outputId": "b24372ff-01aa-456e-ee18-0d4f29416555",
        "colab": {
          "base_uri": "https://localhost:8080/",
          "height": 67
        }
      },
      "source": [
        "print(\"Training Sample Size = \", TrainSize)\n",
        "print(\"Validation Sample Size = \",ValidSize)\n",
        "print(\"All Sample Size = \", len(df))"
      ],
      "execution_count": 0,
      "outputs": [
        {
          "output_type": "stream",
          "text": [
            "Training Sample Size =  3376\n",
            "Validation Sample Size =  845\n",
            "All Sample Size =  4221\n"
          ],
          "name": "stdout"
        }
      ]
    },
    {
      "cell_type": "code",
      "metadata": {
        "id": "ZBaqYYl1yvtV",
        "colab_type": "code",
        "outputId": "fa56ace6-791f-4a4a-e7f3-187a397d52a2",
        "colab": {
          "base_uri": "https://localhost:8080/",
          "height": 386
        }
      },
      "source": [
        "# Visualize data size for triming\n",
        "hist, bins2 = np.histogram(angle, 21)\n",
        "print(hist)\n",
        "print(bins2)\n",
        "\n",
        "\n",
        "# need input matplot lib\n",
        "import matplotlib.pyplot as plt\n",
        "plt.hist(angle,bins = bins2)\n",
        "plt.show\n"
      ],
      "execution_count": 0,
      "outputs": [
        {
          "output_type": "stream",
          "text": [
            "[   4    2    3    4   17   66  111  250  447  761 1188  671  379  185\n",
            "   86   33    7    4    1    0    2]\n",
            "[-0.9426954  -0.8501861  -0.75767679 -0.66516749 -0.57265818 -0.48014888\n",
            " -0.38763957 -0.29513027 -0.20262096 -0.11011166 -0.01760235  0.07490695\n",
            "  0.16741626  0.25992556  0.35243487  0.44494417  0.53745348  0.62996278\n",
            "  0.72247209  0.81498139  0.9074907   1.        ]\n"
          ],
          "name": "stdout"
        },
        {
          "output_type": "execute_result",
          "data": {
            "text/plain": [
              "<function matplotlib.pyplot.show>"
            ]
          },
          "metadata": {
            "tags": []
          },
          "execution_count": 39
        },
        {
          "output_type": "display_data",
          "data": {
            "image/png": "[encoded data removed]",
            "text/plain": [
              "<Figure size 432x288 with 1 Axes>"
            ]
          },
          "metadata": {
            "tags": []
          }
        }
      ]
    },
    {
      "cell_type": "markdown",
      "metadata": {
        "id": "4TtcyTKTtRMJ",
        "colab_type": "text"
      },
      "source": [
        "### Data Generator"
      ]
    },
    {
      "cell_type": "code",
      "metadata": {
        "id": "dPMUzfahtI5c",
        "colab_type": "code",
        "colab": {}
      },
      "source": [
        "def aug_flip(images, angles):\n",
        "    augflip_img = []\n",
        "    augflip_ang = []\n",
        "    for (img, ang) in zip(images, angles):\n",
        "      augflip_img.append(img)\n",
        "      augflip_ang.append(ang)\n",
        "      augflip_img.append(np.fliplr(img))  #augflip_img.append(cv2.flip(img, 1))\n",
        "      augflip_ang.append(ang*(-1.0))        \n",
        "    return np.array(augflip_img), np.array(augflip_ang)"
      ],
      "execution_count": 0,
      "outputs": []
    },
    {
      "cell_type": "code",
      "metadata": {
        "id": "s94BrLXLtbDu",
        "colab_type": "code",
        "colab": {}
      },
      "source": [
        "def generator(X_trainfname, y_trainang, batch_size=32):\n",
        "    num_samples = len(y_trainang)\n",
        "    while 1: # Loop forever so the generator never terminates\n",
        "\n",
        "        for offset in range(0, num_samples, batch_size):\n",
        "            batch_imgName = X_trainfname[offset:offset+batch_size]\n",
        "            batch_angle = y_trainang[offset:offset+batch_size]\n",
        "\n",
        "            images = []\n",
        "            angles = []\n",
        "            for k in range(0,len(batch_angle)):\n",
        "              for j in range(0,3):\n",
        "                name = drive_path + 'data/' + batch_imgName[k][j]\n",
        "                #print(name)\n",
        "                image_bgr = cv2.imread(name)\n",
        "                image_rgb = cv2.cvtColor(image_bgr, cv2.COLOR_BGR2RGB)\n",
        "                if image_rgb is None:\n",
        "                  continue  \n",
        "                else:\n",
        "                  steer_angle = float(batch_angle[k])\n",
        "                  if j == 1:\n",
        "                    steer_angle = steer_angle+0.2\n",
        "                  elif j ==2:\n",
        "                    steer_angle = steer_angle-0.2\n",
        "\n",
        "                  images.append(image_rgb)\n",
        "                  angles.append(steer_angle)\n",
        "            # call pre-process - flipping\n",
        "            augflip_img, augflip_ang = aug_flip(images, angles)\n",
        "            yield shuffle(np.array(augflip_img), np.array(augflip_ang))\n",
        "            \n",
        "train_generator= generator(X_trainfname, y_trainang)\n",
        "validation_generator= generator(X_validfname, y_validang)    "
      ],
      "execution_count": 0,
      "outputs": []
    },
    {
      "cell_type": "markdown",
      "metadata": {
        "id": "20enYQSAtqJo",
        "colab_type": "text"
      },
      "source": [
        "### Build Model"
      ]
    },
    {
      "cell_type": "code",
      "metadata": {
        "id": "2ONKhFv9tcXK",
        "colab_type": "code",
        "outputId": "1b513a6a-ca10-430d-bb40-b62443928527",
        "colab": {
          "base_uri": "https://localhost:8080/",
          "height": 655
        }
      },
      "source": [
        "model = Sequential()\n",
        "model.add(Lambda(lambda x: x/127.5-1.0, input_shape=(160,320,3)))\n",
        "model.add(Cropping2D(cropping = ((60,25),(0,0)))) # 60 pixels from the top and 25 pixels from the bottom. ((top_crop, bottom_crop), (left_crop, right_crop))\n",
        "model.add(Conv2D(24, (5, 5), activation='elu', strides=(2, 2)))\n",
        "model.add(Conv2D(36, (5, 5), activation='elu', strides=(2, 2)))\n",
        "model.add(Dropout(0.5))\n",
        "model.add(Conv2D(48, (5, 5), activation='elu', strides=(2, 2)))\n",
        "model.add(Conv2D(64, (3, 3), activation='elu'))\n",
        "model.add(Conv2D(64, (3, 3), activation='elu'))\n",
        "model.add(Dropout(0.5))\n",
        "model.add(Flatten())\n",
        "model.add(Dense(100, activation='elu'))\n",
        "model.add(Dropout(0.5))\n",
        "model.add(Dense(50, activation='elu'))\n",
        "model.add(Dense(10, activation='elu'))\n",
        "model.add(Dense(1))\n",
        "model.summary()"
      ],
      "execution_count": 0,
      "outputs": [
        {
          "output_type": "stream",
          "text": [
            "Model: \"sequential_3\"\n",
            "_________________________________________________________________\n",
            "Layer (type)                 Output Shape              Param #   \n",
            "=================================================================\n",
            "lambda_3 (Lambda)            (None, 160, 320, 3)       0         \n",
            "_________________________________________________________________\n",
            "cropping2d_3 (Cropping2D)    (None, 75, 320, 3)        0         \n",
            "_________________________________________________________________\n",
            "conv2d_11 (Conv2D)           (None, 36, 158, 24)       1824      \n",
            "_________________________________________________________________\n",
            "conv2d_12 (Conv2D)           (None, 16, 77, 36)        21636     \n",
            "_________________________________________________________________\n",
            "dropout_7 (Dropout)          (None, 16, 77, 36)        0         \n",
            "_________________________________________________________________\n",
            "conv2d_13 (Conv2D)           (None, 6, 37, 48)         43248     \n",
            "_________________________________________________________________\n",
            "conv2d_14 (Conv2D)           (None, 4, 35, 64)         27712     \n",
            "_________________________________________________________________\n",
            "conv2d_15 (Conv2D)           (None, 2, 33, 64)         36928     \n",
            "_________________________________________________________________\n",
            "dropout_8 (Dropout)          (None, 2, 33, 64)         0         \n",
            "_________________________________________________________________\n",
            "flatten_3 (Flatten)          (None, 4224)              0         \n",
            "_________________________________________________________________\n",
            "dense_9 (Dense)              (None, 100)               422500    \n",
            "_________________________________________________________________\n",
            "dropout_9 (Dropout)          (None, 100)               0         \n",
            "_________________________________________________________________\n",
            "dense_10 (Dense)             (None, 50)                5050      \n",
            "_________________________________________________________________\n",
            "dense_11 (Dense)             (None, 10)                510       \n",
            "_________________________________________________________________\n",
            "dense_12 (Dense)             (None, 1)                 11        \n",
            "=================================================================\n",
            "Total params: 559,419\n",
            "Trainable params: 559,419\n",
            "Non-trainable params: 0\n",
            "_________________________________________________________________\n"
          ],
          "name": "stdout"
        }
      ]
    },
    {
      "cell_type": "code",
      "metadata": {
        "id": "rVjb9jTTtvpp",
        "colab_type": "code",
        "outputId": "907f4b03-5c1c-4bdd-d262-5b4b6ace86ba",
        "colab": {
          "base_uri": "https://localhost:8080/",
          "height": 238
        }
      },
      "source": [
        "batch_size=32\n",
        "model.compile(loss='mse', optimizer='adam')\n",
        "history_object = model.fit_generator(train_generator, \n",
        "            steps_per_epoch = TrainSize//batch_size, \n",
        "            validation_data = validation_generator, \n",
        "            validation_steps = ValidSize//batch_size, \n",
        "            epochs = 5, verbose = 1)\n",
        "model.save(drive_path + 'Build-model-09.h5')"
      ],
      "execution_count": 0,
      "outputs": [
        {
          "output_type": "stream",
          "text": [
            "Epoch 1/5\n",
            " 34/105 [========>.....................] - ETA: 25:27 - loss: 0.1530"
          ],
          "name": "stdout"
        },
        {
          "output_type": "stream",
          "text": [
            "/usr/local/lib/python3.6/dist-packages/keras/utils/data_utils.py:709: UserWarning: An input could not be retrieved. It could be because a worker has died.We do not have any information on the lost sample.\n",
            "  UserWarning)\n"
          ],
          "name": "stderr"
        },
        {
          "output_type": "stream",
          "text": [
            "105/105 [==============================] - 2675s 25s/step - loss: 0.0788 - val_loss: 0.0312\n",
            "Epoch 2/5\n",
            "105/105 [==============================] - 130s 1s/step - loss: 0.0348 - val_loss: 0.0253\n",
            "Epoch 3/5\n",
            "105/105 [==============================] - 130s 1s/step - loss: 0.0301 - val_loss: 0.0242\n",
            "Epoch 4/5\n",
            "105/105 [==============================] - 131s 1s/step - loss: 0.0276 - val_loss: 0.0218\n",
            "Epoch 5/5\n",
            "105/105 [==============================] - 128s 1s/step - loss: 0.0262 - val_loss: 0.0216\n"
          ],
          "name": "stdout"
        }
      ]
    },
    {
      "cell_type": "code",
      "metadata": {
        "id": "7nJPWVvQt9q4",
        "colab_type": "code",
        "outputId": "a96aedb1-4799-4e63-d244-c932e024bd7a",
        "colab": {
          "base_uri": "https://localhost:8080/",
          "height": 312
        }
      },
      "source": [
        "print(history_object.history.keys())\n",
        "\n",
        "### plot the training and validation loss for each epoch\n",
        "import matplotlib.pyplot as plt\n",
        "plt.plot(history_object.history['loss'])\n",
        "plt.plot(history_object.history['val_loss'])\n",
        "plt.title('model mean squared error loss')\n",
        "plt.ylabel('Mean Squared Error Loss')\n",
        "plt.xlabel('Epoch Step')\n",
        "plt.legend(['Training set', 'Validation set'], loc='best')\n",
        "plt.show()"
      ],
      "execution_count": 0,
      "outputs": [
        {
          "output_type": "stream",
          "text": [
            "dict_keys(['val_loss', 'loss'])\n"
          ],
          "name": "stdout"
        },
        {
          "output_type": "display_data",
          "data": {
            "image/png": "[encoded data removed]",
            "text/plain": [
              "<Figure size 432x288 with 1 Axes>"
            ]
          },
          "metadata": {
            "tags": []
          }
        }
      ]
    }
  ]
}